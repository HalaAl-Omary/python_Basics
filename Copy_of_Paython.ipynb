{
  "nbformat": 4,
  "nbformat_minor": 0,
  "metadata": {
    "colab": {
      "provenance": [],
      "authorship_tag": "ABX9TyNQHxw/fdIqNRLhqUmD7WvG",
      "include_colab_link": true
    },
    "kernelspec": {
      "name": "python3",
      "display_name": "Python 3"
    },
    "language_info": {
      "name": "python"
    }
  },
  "cells": [
    {
      "cell_type": "markdown",
      "metadata": {
        "id": "view-in-github",
        "colab_type": "text"
      },
      "source": [
        "<a href=\"https://colab.research.google.com/github/HalaAl-Omary/python_Basics/blob/main/Copy_of_Paython.ipynb\" target=\"_parent\"><img src=\"https://colab.research.google.com/assets/colab-badge.svg\" alt=\"Open In Colab\"/></a>"
      ]
    },
    {
      "cell_type": "code",
      "execution_count": 1,
      "metadata": {
        "id": "0F3eEjPj3yis",
        "colab": {
          "base_uri": "https://localhost:8080/"
        },
        "outputId": "e313cb2c-f841-4971-9bac-1d097632ef8d"
      },
      "outputs": [
        {
          "output_type": "stream",
          "name": "stdout",
          "text": [
            "hi\n"
          ]
        }
      ],
      "source": [
        "def get_choices():\n",
        "  player_choice = \"rock\"\n",
        "  computer_choice = \"paper\"\n",
        "\n",
        "  return player_choice\n",
        "\n",
        "def greeting():\n",
        "  return \"hi\"\n",
        "\n",
        "response = greeting()\n",
        "print(response)"
      ]
    },
    {
      "cell_type": "code",
      "source": [
        "def get_choices():\n",
        "  player_choice = \"rock\"\n",
        "  computer_choice = \"paper\"\n",
        "\n",
        "  return computer_choice\n",
        "\n",
        "\n",
        "choices = get_choices()\n",
        "print(choices)"
      ],
      "metadata": {
        "colab": {
          "base_uri": "https://localhost:8080/"
        },
        "id": "x2p_-C5Z6a3w",
        "outputId": "5fbd1d64-ee6d-4199-cf10-57f1fb5cd70b"
      },
      "execution_count": null,
      "outputs": [
        {
          "output_type": "stream",
          "name": "stdout",
          "text": [
            "paper\n"
          ]
        }
      ]
    },
    {
      "cell_type": "code",
      "source": [
        "def get_choices():\n",
        "  player_choice = input(\"Enter a choice (rock,paper,scissors: )\")\n",
        "  computer_choice = \"paper\"\n",
        "  choices = {\"player\":player_choice, \"comuter\":computer_choice}\n",
        "  return choices\n",
        "\n",
        "\n",
        "choices = get_choices()\n",
        "print(choices)"
      ],
      "metadata": {
        "colab": {
          "base_uri": "https://localhost:8080/"
        },
        "id": "vHvFAuAt7FbY",
        "outputId": "2a0cda5c-f263-4e58-a69b-a49494e39112"
      },
      "execution_count": null,
      "outputs": [
        {
          "output_type": "stream",
          "name": "stdout",
          "text": [
            "Enter a choice (rock,paper,scissors: )paper\n",
            "{'player': 'paper', 'comuter': 'paper'}\n"
          ]
        }
      ]
    },
    {
      "cell_type": "code",
      "source": [
        "import random\n",
        "\n",
        "def get_choices():\n",
        "  player_choice = input(\"Enter a choice (rock,paper,scissors: )\")\n",
        "  options = [\"rock\" ,\"paper\" ,\"scissors\"]\n",
        "  computer_choice = random.choice(options)\n",
        "  choices = {\"player\":player_choice, \"comuter\":computer_choice}\n",
        "  return choices\n",
        "\n",
        "\n",
        "choices = get_choices()\n",
        "print(choices)\n",
        "\n",
        "# food=[\"pizza\" , \"carrots\" , \"eggs\"]\n",
        "# dinner = random.choice(food)\n",
        "# print(dinner)\n"
      ],
      "metadata": {
        "colab": {
          "base_uri": "https://localhost:8080/"
        },
        "id": "dHbgGtRQ8yDe",
        "outputId": "3c203ffa-90bc-4209-d7b0-fb29120cbccd"
      },
      "execution_count": null,
      "outputs": [
        {
          "output_type": "stream",
          "name": "stdout",
          "text": [
            "Enter a choice (rock,paper,scissors: )paper\n",
            "{'player': 'paper', 'comuter': 'paper'}\n"
          ]
        }
      ]
    },
    {
      "cell_type": "code",
      "source": [
        "import random\n",
        "\n",
        "def check_win(player, computer):\n",
        "  print(f\"you chose {player}, computer chose {computer}\")\n",
        "  if player == computer :\n",
        "    return \"its a tie\"\n",
        "  elif player == \"rock\" and computer == \"scissors\":\n",
        "    return \"rock smashes scissors\"\n",
        "  elif player == \"rock\" and computer == \"paper\":\n",
        "    return \"paper cover rock\"\n",
        "  else:\n",
        "    return \"win\"\n",
        "check_win(\"rock\",\"paper\")"
      ],
      "metadata": {
        "colab": {
          "base_uri": "https://localhost:8080/",
          "height": 53
        },
        "id": "jTEMNrmF-qPO",
        "outputId": "68e728ae-c2c0-421a-b959-0f121ef64621"
      },
      "execution_count": null,
      "outputs": [
        {
          "output_type": "stream",
          "name": "stdout",
          "text": [
            "you chose rock, computer chose paper\n"
          ]
        },
        {
          "output_type": "execute_result",
          "data": {
            "text/plain": [
              "'paper cover rock'"
            ],
            "application/vnd.google.colaboratory.intrinsic+json": {
              "type": "string"
            }
          },
          "metadata": {},
          "execution_count": 15
        }
      ]
    },
    {
      "cell_type": "code",
      "source": [
        "age = 20\n",
        "if age >= 18:\n",
        "  print(\"you are adult\")\n",
        "elif age > 12:\n",
        "  print(\"teenager\")\n",
        "elif age > 1:\n",
        "  print(\"child\")\n",
        "else:\n",
        "  print(\"baby\")"
      ],
      "metadata": {
        "colab": {
          "base_uri": "https://localhost:8080/"
        },
        "id": "qWrnUVJlBlDw",
        "outputId": "7eba6110-56c9-45a1-81c2-13a98fc39e6e"
      },
      "execution_count": null,
      "outputs": [
        {
          "output_type": "stream",
          "name": "stdout",
          "text": [
            "you are adult\n"
          ]
        }
      ]
    },
    {
      "cell_type": "code",
      "source": [
        "from ast import Return\n",
        "import random\n",
        "\n",
        "def get_choices():\n",
        "  player_choice = input(\"Enter a choice (rock,paper,scissors: )\")\n",
        "  options = [\"rock\" ,\"paper\" ,\"scissors\"]\n",
        "  computer_choice = random.choice(options)\n",
        "  choices = {\"player\": player_choice, \"computer\": computer_choice}\n",
        "  return choices\n",
        "\n",
        "def check_win(player, computer):\n",
        "  print(f\"you chose {player}, computer chose {computer}\")\n",
        "  if player == computer :\n",
        "    return \"its a tie\"\n",
        "  elif player ==\"rock\":\n",
        "    if computer == \"scissors\":\n",
        "      return \"rock smashes scissors\"\n",
        "    else:\n",
        "      return \"paper covers rock\"\n",
        "  elif player ==\"paper\":\n",
        "    if computer == \"rock\":\n",
        "      return \"paper cover rock \"\n",
        "    else:\n",
        "      return \"scissors cut paper\"\n",
        "  elif player ==\"scissors\":\n",
        "    if computer == \"paper\":\n",
        "      return \"scissors cut paper \"\n",
        "    else:\n",
        "      return \"rock smashes scissors \"\n",
        "choices = get_choices()\n",
        "result =check_win(choices[\"player\"], choices[\"computer\"])\n",
        "print(result)\n"
      ],
      "metadata": {
        "colab": {
          "base_uri": "https://localhost:8080/"
        },
        "id": "wyVBOAsRCQdV",
        "outputId": "da795b36-b1a7-4742-a8c7-dd0fbdc6a837"
      },
      "execution_count": null,
      "outputs": [
        {
          "output_type": "stream",
          "name": "stdout",
          "text": [
            "Enter a choice (rock,paper,scissors: )paper\n",
            "you chose paper, computer chose scissors\n",
            "scissors cut paper\n"
          ]
        }
      ]
    },
    {
      "cell_type": "code",
      "source": [
        "name = \"hala\"\n",
        "print(type(name) == str)\n",
        "print(isinstance(name,str))\n",
        "age = float(2)\n",
        "print(isinstance(age,int))\n",
        "print(isinstance(age,float))\n",
        "number = \"40\"\n",
        "num = int(number)\n",
        "print(isinstance(num,int))\n",
        "\n",
        "# complex for complex numbers\n",
        "# bool for boolean\n",
        "# list for lists\n",
        "# tuple for tuples\n",
        "# range for ranges\n",
        "# dict for dictionaries\n",
        "# set for sets"
      ],
      "metadata": {
        "colab": {
          "base_uri": "https://localhost:8080/"
        },
        "id": "IdCEnSksUFx7",
        "outputId": "653e3a85-3bdd-4587-dff5-8e561824ebc5"
      },
      "execution_count": null,
      "outputs": [
        {
          "output_type": "stream",
          "name": "stdout",
          "text": [
            "True\n",
            "True\n",
            "False\n",
            "True\n",
            "True\n"
          ]
        }
      ]
    },
    {
      "cell_type": "code",
      "source": [
        "1+ -1 #0\n",
        "2 - 1 #1\n",
        "2 * 2 #4\n",
        "4 / 2 #2\n",
        "4 % 3 #1\n",
        "4 ** 2 #16\n",
        "5 // 2 #2\n",
        "\n",
        "print(\"hala \" +\"student\")\n",
        "print(5 + 4 * 2)\n",
        "age = 8\n",
        "age+=2\n",
        "print(age)\n"
      ],
      "metadata": {
        "colab": {
          "base_uri": "https://localhost:8080/"
        },
        "id": "JV90bFuYVeTO",
        "outputId": "47b2f888-8822-4ad6-d250-d19ae0f76a17"
      },
      "execution_count": null,
      "outputs": [
        {
          "output_type": "stream",
          "name": "stdout",
          "text": [
            "hala student\n",
            "13\n",
            "10\n"
          ]
        }
      ]
    },
    {
      "cell_type": "code",
      "source": [
        "a = 1\n",
        "b = 2\n",
        "a == b #false\n",
        "a != b #true\n",
        "a > b  #false\n",
        "a <= b #true\n",
        "\n",
        "con1 = True\n",
        "con2 = False\n",
        "not con1 #false\n",
        "con1 and con2 #false\n",
        "con1 or con2 #true\n",
        "\n"
      ],
      "metadata": {
        "id": "e7_4RHZ8Zn5j"
      },
      "execution_count": null,
      "outputs": []
    },
    {
      "cell_type": "code",
      "source": [
        "print(0 or 1)\n",
        "print(False or 'hey')\n",
        "print('hi' or 'hey')\n",
        "print([] or False)\n",
        "print(False or [])\n",
        "\n",
        "print(0 and 1)\n",
        "print(1 and 0)\n",
        "print(False and 'hey')\n",
        "print('hi' and 'hey')\n",
        "print([] and False)\n",
        "print(False and [])\n",
        "\n",
        "\n",
        "# & performs binary And\n",
        "# | performs binary Or\n",
        "# ^ performs binary XOR\n",
        "# ~ performs binary Not\n",
        "# << shift left Operation\n",
        "# >> shift right Operation\n",
        "\n",
        "\n",
        "#is\n",
        "#in\n"
      ],
      "metadata": {
        "colab": {
          "base_uri": "https://localhost:8080/"
        },
        "id": "Uv9L4D2Jah-R",
        "outputId": "b19a6641-b1a1-4b3e-d645-bd73878f7ec4"
      },
      "execution_count": null,
      "outputs": [
        {
          "output_type": "stream",
          "name": "stdout",
          "text": [
            "1\n",
            "hey\n",
            "hi\n",
            "False\n",
            "[]\n",
            "0\n",
            "0\n",
            "False\n",
            "hey\n",
            "[]\n",
            "False\n"
          ]
        }
      ]
    },
    {
      "cell_type": "code",
      "source": [
        "def is_adult(age):\n",
        "  if age > 18:\n",
        "    return True\n",
        "  else:\n",
        "    return False\n",
        "\n",
        "\n",
        "def is_adult2(age):\n",
        "  return True if age > 18 else False  #ternary operator\n",
        "\n",
        "is_adult(20)\n",
        "is_adult2(20)\n",
        "\n"
      ],
      "metadata": {
        "colab": {
          "base_uri": "https://localhost:8080/"
        },
        "id": "B3jv0k0cc68o",
        "outputId": "077045d4-8192-4d50-d9e7-b14427060a0a"
      },
      "execution_count": null,
      "outputs": [
        {
          "output_type": "execute_result",
          "data": {
            "text/plain": [
              "True"
            ]
          },
          "metadata": {},
          "execution_count": 28
        }
      ]
    },
    {
      "cell_type": "code",
      "source": [
        "\"Beau\"\n",
        "'Beau'\n",
        "name = \"Beau\"\n",
        "name += \" is my name\"\n",
        "age = str(39)\n",
        "print(name)\n",
        "print(age)\n",
        "\n",
        "\n",
        "print(\"\"\"hello\n",
        "\n",
        "40\n",
        "\n",
        "hala\n",
        "\"\"\")\n",
        "\n",
        "\n",
        "print(\"hala\".upper())\n",
        "\n",
        "print(\"hAla\".lower())\n",
        "print(\"hala al omary\".title())"
      ],
      "metadata": {
        "colab": {
          "base_uri": "https://localhost:8080/"
        },
        "id": "6kOdFe7xd4Yz",
        "outputId": "7baf100e-a6e0-4c54-e648-c49a75c23973"
      },
      "execution_count": null,
      "outputs": [
        {
          "output_type": "stream",
          "name": "stdout",
          "text": [
            "Beau is my name\n",
            "39\n",
            "hello\n",
            "\n",
            "40\n",
            "\n",
            "hala\n",
            "\n",
            "HALA\n",
            "hala\n",
            "Hala Al Omary\n"
          ]
        }
      ]
    },
    {
      "cell_type": "code",
      "source": [
        "# String methods in Python\n",
        "\n",
        "# Check if the string contains only letters (and is not empty)\n",
        "# isalpha()\n",
        "\n",
        "# # Check if the string contains only letters or digits (and is not empty)\n",
        "# isalnum()\n",
        "\n",
        "# # Check if the string contains only digits (and is not empty)\n",
        "# isdecimal()\n",
        "\n",
        "# # Get a lowercase version of the string\n",
        "# lower()\n",
        "\n",
        "# # Check if the string is all lowercase\n",
        "# islower()\n",
        "\n",
        "# # Get an uppercase version of the string\n",
        "# upper()\n",
        "\n",
        "# # Check if the string is all uppercase\n",
        "# isupper()\n",
        "\n",
        "# # Get a capitalized version (first letter of each word uppercase)\n",
        "# title()\n",
        "\n",
        "# # Check if the string starts with a specific substring\n",
        "# startswith()\n",
        "\n",
        "# # Check if the string ends with a specific substring\n",
        "# endswith()\n",
        "\n",
        "# # Replace part of a string with another string\n",
        "# replace()\n",
        "\n",
        "# # Split a string on a specific character separator\n",
        "# split()\n",
        "\n",
        "# # Trim (remove) whitespace or specific characters from the string\n",
        "# strip()\n",
        "\n",
        "# # Append (join) elements of a list into a string with a separator\n",
        "# join()\n",
        "\n",
        "# # Find the position (index) of a substring in a string\n",
        "# find()\n"
      ],
      "metadata": {
        "colab": {
          "base_uri": "https://localhost:8080/"
        },
        "id": "MVaxtcRzgQnL",
        "outputId": "2d346bea-286b-4b4e-c32f-6d5c65b761ca"
      },
      "execution_count": null,
      "outputs": [
        {
          "output_type": "stream",
          "name": "stdout",
          "text": [
            "['apple', 'banana', 'orange']\n"
          ]
        }
      ]
    },
    {
      "cell_type": "code",
      "source": [
        "name = \"halapp\"\n",
        "print(name.lower())\n",
        "print(len(name))\n",
        "print(\"ha\" in name)\n",
        "sco=\"uni\\\"aa\"\n",
        "sco1=\"nn'\\\"ll\"\n",
        "sco2=\"kk\\noo\"\n",
        "sco3=\"kk\\\\noo\"\n",
        "print(sco)\n",
        "print(sco1)\n",
        "print(sco2)\n",
        "print(sco3)"
      ],
      "metadata": {
        "colab": {
          "base_uri": "https://localhost:8080/"
        },
        "id": "SmVQOlzbhd1w",
        "outputId": "91e25374-57e8-4370-dbce-0df794c4654a"
      },
      "execution_count": null,
      "outputs": [
        {
          "output_type": "stream",
          "name": "stdout",
          "text": [
            "halapp\n",
            "6\n",
            "True\n",
            "uni\"aa\n",
            "nn'\"ll\n",
            "kk\n",
            "oo\n",
            "kk\\noo\n"
          ]
        }
      ]
    },
    {
      "cell_type": "code",
      "source": [
        "name = \"hala is ddd\"\n",
        "print(name[2:4])\n",
        "print(name[2:])\n",
        "print(name[:6])\n",
        "print(name[1:2])"
      ],
      "metadata": {
        "colab": {
          "base_uri": "https://localhost:8080/"
        },
        "id": "zWhVXK8ei6G3",
        "outputId": "956d6e47-e3e3-4919-fb06-e07035ef926d"
      },
      "execution_count": null,
      "outputs": [
        {
          "output_type": "stream",
          "name": "stdout",
          "text": [
            "la\n",
            "la is ddd\n",
            "hala i\n",
            "a\n"
          ]
        }
      ]
    },
    {
      "cell_type": "code",
      "source": [
        "ingredients_purchased = False\n",
        "meal_cooked = True\n",
        "ready_to_serv = any([ingredients_purchased, meal_cooked])\n",
        "ready_to_serve = all([ingredients_purchased, meal_cooked])\n",
        "print(ready_to_serv)\n",
        "print(ready_to_serve)"
      ],
      "metadata": {
        "colab": {
          "base_uri": "https://localhost:8080/"
        },
        "id": "_tg6Afm5jvFK",
        "outputId": "dd51a96c-b82b-41d9-9053-22bc4bee3907"
      },
      "execution_count": null,
      "outputs": [
        {
          "output_type": "stream",
          "name": "stdout",
          "text": [
            "True\n",
            "False\n"
          ]
        }
      ]
    },
    {
      "cell_type": "code",
      "source": [
        "num1 = 2+3j\n",
        "num2 = complex(2,3)\n",
        "print(num2.real, num2.imag)"
      ],
      "metadata": {
        "colab": {
          "base_uri": "https://localhost:8080/"
        },
        "id": "ogsQSSMblA8W",
        "outputId": "e72aca50-65be-4c91-df6b-dcddfbff3724"
      },
      "execution_count": null,
      "outputs": [
        {
          "output_type": "stream",
          "name": "stdout",
          "text": [
            "2.0 3.0\n"
          ]
        }
      ]
    },
    {
      "cell_type": "code",
      "source": [
        "x = -5\n",
        "print(abs(x))   # الناتج: 5\n",
        "\n",
        "z = 3 + 4j\n",
        "print(abs(z))   # الناتج: 5.0   → √(3² + 4²)\n",
        "\n"
      ],
      "metadata": {
        "colab": {
          "base_uri": "https://localhost:8080/"
        },
        "id": "dHtOKRM1mVPo",
        "outputId": "3648a782-11d9-455d-f5a6-9a1ab41cf9f1"
      },
      "execution_count": null,
      "outputs": [
        {
          "output_type": "stream",
          "name": "stdout",
          "text": [
            "5\n",
            "5.0\n"
          ]
        }
      ]
    },
    {
      "cell_type": "code",
      "source": [
        "x = 3.14159\n",
        "print(round(x))      # الناتج: 3   → أقرب عدد صحيح\n",
        "print(round(x, 2))   # الناتج: 3.14  → تقريبه لرقمين عشريين\n"
      ],
      "metadata": {
        "colab": {
          "base_uri": "https://localhost:8080/"
        },
        "id": "Fl45MOnOmYXM",
        "outputId": "07289d7d-2838-4b46-a110-8eec58727401"
      },
      "execution_count": null,
      "outputs": [
        {
          "output_type": "stream",
          "name": "stdout",
          "text": [
            "3\n",
            "3.14\n"
          ]
        }
      ]
    },
    {
      "cell_type": "code",
      "source": [
        "from enum import Enum\n",
        "\n",
        "class State(Enum):\n",
        " INACTIVE = 0\n",
        " ACTIVE = 1\n",
        "\n",
        "print(State.ACTIVE.name)\n",
        "print(State.ACTIVE.value)\n",
        "print(State(1))\n",
        "print(State(1).name)\n",
        "print(State['ACTIVE'])\n",
        "print(State['ACTIVE'].value)\n",
        "print(list(State))\n",
        "print(len(State))"
      ],
      "metadata": {
        "colab": {
          "base_uri": "https://localhost:8080/"
        },
        "id": "-tYpHy-DmsIS",
        "outputId": "6ecabf9d-af37-44c4-8d48-10d6053b0a5f"
      },
      "execution_count": null,
      "outputs": [
        {
          "output_type": "stream",
          "name": "stdout",
          "text": [
            "ACTIVE\n",
            "1\n",
            "State.ACTIVE\n",
            "ACTIVE\n",
            "State.ACTIVE\n",
            "1\n",
            "[<State.INACTIVE: 0>, <State.ACTIVE: 1>]\n",
            "2\n"
          ]
        }
      ]
    },
    {
      "cell_type": "code",
      "source": [
        "age = input(\"what is your age ?\")\n",
        "print(\"Your age is \" + age)"
      ],
      "metadata": {
        "colab": {
          "base_uri": "https://localhost:8080/"
        },
        "id": "-V8qOoFRobFs",
        "outputId": "f4c54551-b674-45fa-85b0-36d2cd9674df"
      },
      "execution_count": null,
      "outputs": [
        {
          "output_type": "stream",
          "name": "stdout",
          "text": [
            "what is your age ?50\n",
            "Your age is 50\n"
          ]
        }
      ]
    },
    {
      "cell_type": "code",
      "source": [
        "condition = False\n",
        "if condition == True:\n",
        " print(\"The condition\")\n",
        " print(\"was True\")\n",
        "else:\n",
        " print(\"The condition\")\n",
        " print(\"was False\")"
      ],
      "metadata": {
        "colab": {
          "base_uri": "https://localhost:8080/"
        },
        "id": "6Dyc8BLFpKnN",
        "outputId": "4b3b20f2-1fb8-4c02-8818-b7cf31ceebaa"
      },
      "execution_count": null,
      "outputs": [
        {
          "output_type": "stream",
          "name": "stdout",
          "text": [
            "The condition\n",
            "was False\n"
          ]
        }
      ]
    },
    {
      "cell_type": "code",
      "source": [
        "#List\n",
        "dogs = [\"hala\" , 1 , \"omary\" , True , \"kk\" ,5]\n",
        "print(\"hala\" in dogs)\n",
        "print(dogs[2])\n",
        "print(dogs)\n",
        "dogs[1]=\"moh\"\n",
        "print(dogs)\n",
        "print(dogs[-2])\n",
        "print(dogs[1:4])\n",
        "print(dogs[1:])\n",
        "print(dogs[:4])\n",
        "print(len(dogs))\n",
        "\n",
        "dogs.append(\"aya\")\n",
        "print(dogs)\n",
        "dogs.extend([\"hala\",5])\n",
        "print(dogs)\n",
        "dogs+=[\"judah\",5]\n",
        "print(dogs)\n",
        "dogs+= \"jud\"\n",
        "print(dogs)\n",
        "dogs.remove(\"moh\")\n",
        "print(dogs)\n",
        "print(dogs.pop())\n",
        "print(dogs)"
      ],
      "metadata": {
        "colab": {
          "base_uri": "https://localhost:8080/"
        },
        "id": "wqPJcJV7p0pX",
        "outputId": "a5779b13-a70a-4f2a-d9e1-c1d31c5f5f26"
      },
      "execution_count": null,
      "outputs": [
        {
          "output_type": "stream",
          "name": "stdout",
          "text": [
            "True\n",
            "omary\n",
            "['hala', 1, 'omary', True, 'kk', 5]\n",
            "['hala', 'moh', 'omary', True, 'kk', 5]\n",
            "kk\n",
            "['moh', 'omary', True]\n",
            "['moh', 'omary', True, 'kk', 5]\n",
            "['hala', 'moh', 'omary', True]\n",
            "6\n",
            "['hala', 'moh', 'omary', True, 'kk', 5, 'aya']\n",
            "['hala', 'moh', 'omary', True, 'kk', 5, 'aya', 'hala', 5]\n",
            "['hala', 'moh', 'omary', True, 'kk', 5, 'aya', 'hala', 5, 'judah', 5]\n",
            "['hala', 'moh', 'omary', True, 'kk', 5, 'aya', 'hala', 5, 'judah', 5, 'j', 'u', 'd']\n",
            "['hala', 'omary', True, 'kk', 5, 'aya', 'hala', 5, 'judah', 5, 'j', 'u', 'd']\n",
            "d\n",
            "['hala', 'omary', True, 'kk', 5, 'aya', 'hala', 5, 'judah', 5, 'j', 'u']\n"
          ]
        }
      ]
    },
    {
      "cell_type": "code",
      "source": [
        "items = [\"Roger\", 1, \"Syd\",True, \"Quincy\", 7]\n",
        "items.insert(2, \"Test\")\n",
        "print(items)\n",
        "items2 = [\"Roger\", 1, \"Syd\",True, \"Quincy\", 7]\n",
        "items2[1:1] = [\"t1\" ,\"t2\"]\n",
        "print(items2)"
      ],
      "metadata": {
        "colab": {
          "base_uri": "https://localhost:8080/"
        },
        "id": "riiIb7bltKsC",
        "outputId": "51f3ea35-cfab-4d40-ffa3-30b835484319"
      },
      "execution_count": null,
      "outputs": [
        {
          "output_type": "stream",
          "name": "stdout",
          "text": [
            "['Roger', 1, 'Test', 'Syd', True, 'Quincy', 7]\n",
            "['Roger', 't1', 't2', 1, 'Syd', True, 'Quincy', 7]\n"
          ]
        }
      ]
    },
    {
      "cell_type": "code",
      "source": [
        "items =[3 ,4 , 2 , 7 ,1 ,9 ,4]\n",
        "items2 = [\"h\" , \"g\" ,\"s\",\"a\"]\n",
        "items.sort()\n",
        "items2.sort()\n",
        "print(items)\n",
        "print(items2)"
      ],
      "metadata": {
        "colab": {
          "base_uri": "https://localhost:8080/"
        },
        "id": "Vl2uRVwJt7og",
        "outputId": "343e1868-cc9c-4c75-a560-72c9a0a81b10"
      },
      "execution_count": null,
      "outputs": [
        {
          "output_type": "stream",
          "name": "stdout",
          "text": [
            "[1, 2, 3, 4, 4, 7, 9]\n",
            "['a', 'g', 'h', 's']\n"
          ]
        }
      ]
    },
    {
      "cell_type": "code",
      "source": [
        "items = [\"Roger\", \"bob\", \"Beau\", \"Quincy\"]\n",
        "itcopy = items[:]\n",
        "items.sort(key=str.lower)\n",
        "print(items)\n",
        "print(itcopy)\n"
      ],
      "metadata": {
        "colab": {
          "base_uri": "https://localhost:8080/"
        },
        "id": "dbr4w6CAuzTu",
        "outputId": "53b4bb2b-726c-4fc2-8fa6-cbb6d996e27c"
      },
      "execution_count": null,
      "outputs": [
        {
          "output_type": "stream",
          "name": "stdout",
          "text": [
            "['Beau', 'bob', 'Quincy', 'Roger']\n",
            "['Roger', 'bob', 'Beau', 'Quincy']\n"
          ]
        }
      ]
    },
    {
      "cell_type": "code",
      "source": [
        "items = [\"Roger\", \"bob\",\"Beau\", \"Quincy\"]\n",
        "print(sorted(items,\n",
        "key=str.lower))\n",
        "print(items)"
      ],
      "metadata": {
        "colab": {
          "base_uri": "https://localhost:8080/"
        },
        "id": "wzdastxKvWat",
        "outputId": "d8826a8a-1c00-4104-c30b-9a1dc790bbd2"
      },
      "execution_count": null,
      "outputs": [
        {
          "output_type": "stream",
          "name": "stdout",
          "text": [
            "['Beau', 'bob', 'Quincy', 'Roger']\n",
            "['Roger', 'bob', 'Beau', 'Quincy']\n"
          ]
        }
      ]
    },
    {
      "cell_type": "code",
      "source": [
        "#Tubles\n",
        "names = (\"Roger\", \"Syd\",\"Beau\")\n",
        "print(names[-1])\n",
        "print(names.index(\"Roger\"))\n",
        "print(len(names))\n",
        "print(\"Roger\" in names)\n",
        "print(sorted(names))\n",
        "newtuples = names + (\"tina\" , \"guincy\")\n",
        "print(newtuples)\n"
      ],
      "metadata": {
        "colab": {
          "base_uri": "https://localhost:8080/"
        },
        "id": "ieDCkcKMvjuy",
        "outputId": "c7a25124-93b8-4ca3-c523-7e8e12726294"
      },
      "execution_count": null,
      "outputs": [
        {
          "output_type": "stream",
          "name": "stdout",
          "text": [
            "Beau\n",
            "0\n",
            "3\n",
            "True\n",
            "['Beau', 'Roger', 'Syd']\n",
            "('Roger', 'Syd', 'Beau', 'tina', 'guincy')\n"
          ]
        }
      ]
    },
    {
      "cell_type": "code",
      "source": [
        "#Dictionaries\n",
        "dog = {\"name\" : \"roger\" , \"age\" : 8 ,\"kk\" : \"l\"}\n",
        "print(dog[\"name\"])\n",
        "dog[\"name\"] = \"a\"\n",
        "print(dog[\"name\"])\n",
        "print(dog.get(\"color\" ))\n",
        "print(dog.get(\"color\" ,\"brwon\"))\n",
        "print(dog.popitem())\n",
        "print(dog)\n",
        "print(dog.keys())\n",
        "print(list(dog.keys()))\n",
        "print(dog.values())\n",
        "print(list(dog.values()))\n",
        "print(dog.items())\n",
        "print(list(dog.items()))\n",
        "print(len(dog))\n",
        "\n",
        "dog[\"fav food\"]=\"meat\"\n",
        "print(dog)\n",
        "del dog['name']\n",
        "print(dog)\n",
        "dogcopy = dog.copy()\n",
        "print(dogcopy)"
      ],
      "metadata": {
        "colab": {
          "base_uri": "https://localhost:8080/"
        },
        "id": "LLeQBTCBe2oZ",
        "outputId": "b7195631-7ff0-4937-a672-a4e48a5a7b33"
      },
      "execution_count": null,
      "outputs": [
        {
          "output_type": "stream",
          "name": "stdout",
          "text": [
            "roger\n",
            "a\n",
            "None\n",
            "brwon\n",
            "('kk', 'l')\n",
            "{'name': 'a', 'age': 8}\n",
            "dict_keys(['name', 'age'])\n",
            "['name', 'age']\n",
            "dict_values(['a', 8])\n",
            "['a', 8]\n",
            "dict_items([('name', 'a'), ('age', 8)])\n",
            "[('name', 'a'), ('age', 8)]\n",
            "2\n",
            "{'name': 'a', 'age': 8, 'fav food': 'meat'}\n",
            "{'age': 8, 'fav food': 'meat'}\n",
            "{'age': 8, 'fav food': 'meat'}\n"
          ]
        }
      ]
    },
    {
      "cell_type": "code",
      "source": [
        "#Sets\n",
        "set1 ={\"roger\" , \"syd\" ,\"roger\"}\n",
        "set2={\"roger\"}\n",
        "set3={\"lyn\"}\n",
        "mod = set1 | set3 #union\n",
        "intersect = set1 & set2  #Intersection\n",
        "defr = set1 - set2 #Difference\n",
        "f = set1 < set2 #Subset\n",
        "d = set1 > set2 #Superset\n",
        "print(mod)\n",
        "print(intersect)\n",
        "print(defr)\n",
        "print(f)\n",
        "print(d)\n",
        "print(list(set1)) #ما بكرر"
      ],
      "metadata": {
        "colab": {
          "base_uri": "https://localhost:8080/"
        },
        "id": "3bd6RLqhjptV",
        "outputId": "9e227957-ce17-421d-be2f-b5b3e4d574d4"
      },
      "execution_count": null,
      "outputs": [
        {
          "output_type": "stream",
          "name": "stdout",
          "text": [
            "{'roger', 'syd', 'lyn'}\n",
            "{'roger'}\n",
            "{'syd'}\n",
            "False\n",
            "True\n",
            "['roger', 'syd']\n"
          ]
        }
      ]
    },
    {
      "cell_type": "code",
      "source": [
        "#functions\n",
        "def hello(name=\"hala\",age=30):\n",
        " print(\"hello \" + name +\" age \"+str(age) +\" years old\")\n",
        "hello(\"hh\",80)\n",
        "hello()\n",
        "\n",
        "\n",
        "def change(value):\n",
        " value = 2\n",
        "\n",
        "val = 1\n",
        "change(val)\n",
        "\n",
        "print(val)\n",
        "\n",
        "print(\"------------------\")\n",
        "\n",
        "def changes(value):\n",
        " value[\"name\"] =\"syd\"\n",
        "\n",
        "vals = {\"name\":\"beau\"}\n",
        "changes(vals)\n",
        "\n",
        "print(vals)"
      ],
      "metadata": {
        "colab": {
          "base_uri": "https://localhost:8080/"
        },
        "id": "QJI81Aem-L32",
        "outputId": "6f459bdd-7a09-49ef-b9b0-c47b2d235268"
      },
      "execution_count": null,
      "outputs": [
        {
          "output_type": "stream",
          "name": "stdout",
          "text": [
            "hello hh age 80 years old\n",
            "hello hala age 30 years old\n",
            "1\n",
            "------------------\n",
            "{'name': 'syd'}\n"
          ]
        }
      ]
    },
    {
      "cell_type": "code",
      "source": [
        "def hello(name):\n",
        "  if not name:\n",
        "   return\n",
        "  print('Hello ' + name + '!')\n",
        "\n",
        "hello(False)\n",
        "hello(\"hala\")"
      ],
      "metadata": {
        "colab": {
          "base_uri": "https://localhost:8080/"
        },
        "id": "OFiQsXjBBU4k",
        "outputId": "51b4de56-99fe-43b0-c0d3-ee0a96c665a1"
      },
      "execution_count": null,
      "outputs": [
        {
          "output_type": "stream",
          "name": "stdout",
          "text": [
            "Hello hala!\n"
          ]
        }
      ]
    },
    {
      "cell_type": "code",
      "source": [
        "def hello(name):\n",
        "  print('Hello ' + name + '!')\n",
        "  return name,\"hala\",9\n",
        "\n",
        "print(hello(\"ameer\"))"
      ],
      "metadata": {
        "colab": {
          "base_uri": "https://localhost:8080/"
        },
        "id": "YT9PM1V0CG0M",
        "outputId": "5cce4581-c89a-4015-d062-ac3b5bf75326"
      },
      "execution_count": null,
      "outputs": [
        {
          "output_type": "stream",
          "name": "stdout",
          "text": [
            "Hello ameer!\n",
            "('ameer', 'hala', 9)\n"
          ]
        }
      ]
    },
    {
      "cell_type": "code",
      "source": [
        "#nested function\n",
        "def talk(phrase):\n",
        " def say(word):\n",
        "   print(word)\n",
        "\n",
        " words = phrase.split(' ')\n",
        " for word in words:\n",
        "   say(word)\n",
        "\n",
        "talk('I am going to buy the milk')"
      ],
      "metadata": {
        "colab": {
          "base_uri": "https://localhost:8080/"
        },
        "id": "Rp0zKYQJCfPw",
        "outputId": "ade7afa2-575a-4fb7-ed9a-bb242cb4c95c"
      },
      "execution_count": null,
      "outputs": [
        {
          "output_type": "stream",
          "name": "stdout",
          "text": [
            "I\n",
            "am\n",
            "going\n",
            "to\n",
            "buy\n",
            "the\n",
            "milk\n"
          ]
        }
      ]
    },
    {
      "cell_type": "code",
      "source": [
        "def count():\n",
        "   count = 0\n",
        "\n",
        "   def increment():\n",
        "    nonlocal count\n",
        "    count = count + 1\n",
        "    print(count)\n",
        "   increment()\n",
        "\n",
        "count()\n"
      ],
      "metadata": {
        "colab": {
          "base_uri": "https://localhost:8080/"
        },
        "id": "CO54V16EEOKw",
        "outputId": "4e95d67f-bb2f-4d77-80e4-3a40997da140"
      },
      "execution_count": null,
      "outputs": [
        {
          "output_type": "stream",
          "name": "stdout",
          "text": [
            "1\n"
          ]
        }
      ]
    },
    {
      "cell_type": "code",
      "source": [
        "def counter():\n",
        "    count = 0\n",
        "\n",
        "    def increment():\n",
        "      nonlocal count\n",
        "      count= count + 1\n",
        "      return count\n",
        "    return increment\n",
        "increment = counter()\n",
        "\n",
        "print(increment())\n",
        "print(increment())\n",
        "print(increment())"
      ],
      "metadata": {
        "colab": {
          "base_uri": "https://localhost:8080/"
        },
        "id": "DnYq9YifFQ3_",
        "outputId": "25a13d65-86ff-4a11-8093-542efe672057"
      },
      "execution_count": null,
      "outputs": [
        {
          "output_type": "stream",
          "name": "stdout",
          "text": [
            "1\n",
            "2\n",
            "3\n"
          ]
        }
      ]
    },
    {
      "cell_type": "code",
      "source": [
        "#objects\n",
        "\n",
        "age=8\n",
        "\n",
        "print(age.real)\n",
        "print(age.imag)\n",
        "print(age.bit_length())"
      ],
      "metadata": {
        "colab": {
          "base_uri": "https://localhost:8080/"
        },
        "id": "M7liyFNjGWu8",
        "outputId": "ca2a8ce7-74d2-4197-affa-b986930f5220"
      },
      "execution_count": null,
      "outputs": [
        {
          "output_type": "stream",
          "name": "stdout",
          "text": [
            "8\n",
            "0\n",
            "4\n"
          ]
        }
      ]
    },
    {
      "cell_type": "code",
      "source": [
        "items =[1 , 2]\n",
        "items.append(3)\n",
        "items.pop()\n",
        "print(items)\n",
        "print(id(items))"
      ],
      "metadata": {
        "colab": {
          "base_uri": "https://localhost:8080/"
        },
        "id": "tEM61gE6IJMI",
        "outputId": "36300a80-0bec-449f-d9e0-75cda4117460"
      },
      "execution_count": null,
      "outputs": [
        {
          "output_type": "stream",
          "name": "stdout",
          "text": [
            "[1, 2]\n",
            "135377430358976\n"
          ]
        }
      ]
    },
    {
      "cell_type": "code",
      "source": [
        "from os import truncate\n",
        "#loop\n",
        "con= True\n",
        "while con==True:\n",
        "  print(\"the con is true\")\n",
        "  con=False"
      ],
      "metadata": {
        "colab": {
          "base_uri": "https://localhost:8080/"
        },
        "id": "rdAWpUeBI0Eg",
        "outputId": "7ebb60be-e34b-485d-8b3b-2d8e0fac6f73"
      },
      "execution_count": null,
      "outputs": [
        {
          "output_type": "stream",
          "name": "stdout",
          "text": [
            "the con is true\n"
          ]
        }
      ]
    },
    {
      "cell_type": "code",
      "source": [
        "count=0\n",
        "while count < 10 :\n",
        "  print(\"the con is true\")\n",
        "  count+=1\n",
        "\n",
        "print(\"after the loop\")"
      ],
      "metadata": {
        "colab": {
          "base_uri": "https://localhost:8080/"
        },
        "id": "6lB0NgOFJZwi",
        "outputId": "123e729b-9b93-46c9-a8f2-aaf5bf295826"
      },
      "execution_count": null,
      "outputs": [
        {
          "output_type": "stream",
          "name": "stdout",
          "text": [
            "the con is true\n",
            "the con is true\n",
            "the con is true\n",
            "the con is true\n",
            "the con is true\n",
            "the con is true\n",
            "the con is true\n",
            "the con is true\n",
            "the con is true\n",
            "the con is true\n",
            "after the loop\n"
          ]
        }
      ]
    },
    {
      "cell_type": "code",
      "source": [
        "items = [1,2,3,4]\n",
        "for item in items:\n",
        "  print(item)"
      ],
      "metadata": {
        "colab": {
          "base_uri": "https://localhost:8080/"
        },
        "id": "Ik02b7HJJyuj",
        "outputId": "773a1e16-d20c-403e-851c-19051e6b1b1a"
      },
      "execution_count": null,
      "outputs": [
        {
          "output_type": "stream",
          "name": "stdout",
          "text": [
            "1\n",
            "2\n",
            "3\n",
            "4\n"
          ]
        }
      ]
    },
    {
      "cell_type": "code",
      "source": [
        "items = [1,2,3,4]\n",
        "for index,item in enumerate(items):\n",
        "  print(index,item)"
      ],
      "metadata": {
        "colab": {
          "base_uri": "https://localhost:8080/"
        },
        "id": "-i8VgeKrKZCw",
        "outputId": "6f6cbec9-93f7-4c3e-98a2-857b0600aac2"
      },
      "execution_count": null,
      "outputs": [
        {
          "output_type": "stream",
          "name": "stdout",
          "text": [
            "0 1\n",
            "1 2\n",
            "2 3\n",
            "3 4\n"
          ]
        }
      ]
    },
    {
      "cell_type": "code",
      "source": [
        "for item in range(10):\n",
        "  print(item)"
      ],
      "metadata": {
        "colab": {
          "base_uri": "https://localhost:8080/"
        },
        "id": "eMPdMBbaKIdQ",
        "outputId": "511ee6e7-fcf4-4fb7-ce77-5d4a3e249f54"
      },
      "execution_count": null,
      "outputs": [
        {
          "output_type": "stream",
          "name": "stdout",
          "text": [
            "0\n",
            "1\n",
            "2\n",
            "3\n",
            "4\n",
            "5\n",
            "6\n",
            "7\n",
            "8\n",
            "9\n"
          ]
        }
      ]
    },
    {
      "cell_type": "code",
      "source": [
        "items =[1,2,3,4]\n",
        "for item in items:\n",
        "  if item == 2:\n",
        "     continue\n",
        "  print(item)\n",
        "\n",
        "for item in items:\n",
        "  if item == 2:\n",
        "     break\n",
        "  print(item)"
      ],
      "metadata": {
        "id": "2d__xIX7KuZJ",
        "colab": {
          "base_uri": "https://localhost:8080/"
        },
        "outputId": "cceeef67-1579-409f-dc9f-96868ced214e"
      },
      "execution_count": null,
      "outputs": [
        {
          "output_type": "stream",
          "name": "stdout",
          "text": [
            "1\n",
            "3\n",
            "4\n",
            "1\n"
          ]
        }
      ]
    },
    {
      "cell_type": "code",
      "source": [
        "#classes\n",
        "class Dog:\n",
        "  def bark(self):\n",
        "    print(\"woof\")\n",
        "roger = Dog()\n",
        "\n",
        "print(type(roger))"
      ],
      "metadata": {
        "colab": {
          "base_uri": "https://localhost:8080/"
        },
        "id": "1-yYk9L1h36T",
        "outputId": "562c78ba-0f2e-42c2-91f5-6ca1544a2497"
      },
      "execution_count": null,
      "outputs": [
        {
          "output_type": "stream",
          "name": "stdout",
          "text": [
            "<class '__main__.Dog'>\n"
          ]
        }
      ]
    },
    {
      "cell_type": "code",
      "source": [
        "class Animal:\n",
        "  def walk(self):\n",
        "    print(\"is walking\")\n",
        "\n",
        "class Dog(Animal):  #dog inherint from animal\n",
        "  def __init__(self, name, age):\n",
        "    self.name= name\n",
        "    self.age= age\n",
        "\n",
        "  def bark(self):\n",
        "    print(\"woof\")\n",
        "\n",
        "roger = Dog(\"roger\", 8)\n",
        "\n",
        "print(roger.name)\n",
        "print(roger.age)\n",
        "\n",
        "roger.bark()\n",
        "roger.walk()"
      ],
      "metadata": {
        "colab": {
          "base_uri": "https://localhost:8080/"
        },
        "id": "EC9gce39irof",
        "outputId": "e5c65207-aa5c-4de2-be24-0dc899720a59"
      },
      "execution_count": null,
      "outputs": [
        {
          "output_type": "stream",
          "name": "stdout",
          "text": [
            "roger\n",
            "8\n",
            "woof\n",
            "is walking\n"
          ]
        }
      ]
    },
    {
      "cell_type": "markdown",
      "source": [
        "#Modules\n",
        "math: For mathematical operations and utilities.\n",
        "\n",
        "re: For working with regular expressions, which are used for pattern matching in strings.\n",
        "\n",
        "json: To handle JSON (JavaScript Object Notation) data, a common format for data exchange.\n",
        "\n",
        "datetime: For manipulating dates and times.\n",
        "\n",
        "sqlite3: To interact with SQLite databases, a lightweight, file-based relational database.\n",
        "\n",
        "os: Provides functions for interacting with the operating system, such as file system operations.\n",
        "\n",
        "random: For generating random numbers and making random choices.\n",
        "\n",
        "statistics: Offers functions for calculating basic statistical measures like mean, median, and variance.\n",
        "\n",
        "requests: A popular library for making HTTP requests (e.g., fetching data from websites).\n",
        "\n",
        "http: Used for creating HTTP servers.\n",
        "\n",
        "urllib: A collection of modules for working with URLs, including opening and reading them.\n"
      ],
      "metadata": {
        "id": "7COCNBR0JHph"
      }
    },
    {
      "cell_type": "code",
      "source": [
        "# import math\n",
        "# print(math.sqrt(4))\n",
        "\n",
        "from math import sqrt\n",
        "print(sqrt(4))"
      ],
      "metadata": {
        "colab": {
          "base_uri": "https://localhost:8080/"
        },
        "id": "Cj3MWrQoJJxg",
        "outputId": "22c2528f-79e6-4413-8b2f-fb3230569e34"
      },
      "execution_count": null,
      "outputs": [
        {
          "output_type": "stream",
          "name": "stdout",
          "text": [
            "2.0\n"
          ]
        }
      ]
    },
    {
      "cell_type": "code",
      "source": [
        "#Lambda Functions  #anonymous function\n",
        "\n",
        "lambda num : num *2\n",
        "multiply = lambda a, b : a * b\n",
        "print(multiply(5,10))"
      ],
      "metadata": {
        "colab": {
          "base_uri": "https://localhost:8080/"
        },
        "id": "qEmLxZUTNu56",
        "outputId": "add3b5c7-e3eb-4aba-86ea-b220dd9bce92"
      },
      "execution_count": null,
      "outputs": [
        {
          "output_type": "stream",
          "name": "stdout",
          "text": [
            "50\n"
          ]
        }
      ]
    },
    {
      "cell_type": "code",
      "source": [
        "#map()\n",
        "\n",
        "numbers = [1,2,3]\n",
        "\n",
        "# def double(a):\n",
        "#   return a*2\n",
        "# double = lambda a : a * 2\n",
        "\n",
        "result = map(lambda a : a * 2, numbers)\n",
        "print(list(result))"
      ],
      "metadata": {
        "colab": {
          "base_uri": "https://localhost:8080/"
        },
        "id": "l1gnsebqOweo",
        "outputId": "604a813b-76f3-4080-b0a7-ca9590aece20"
      },
      "execution_count": null,
      "outputs": [
        {
          "output_type": "stream",
          "name": "stdout",
          "text": [
            "[2, 4, 6]\n"
          ]
        }
      ]
    },
    {
      "cell_type": "code",
      "source": [
        "#filter()\n",
        "numbers = [1,2,5,4,8,6]\n",
        "\n",
        "# def isEven(n):\n",
        "#   return n%2 == 0\n",
        "result = filter(lambda n : n%2 == 0,numbers)\n",
        "print(list(result))"
      ],
      "metadata": {
        "colab": {
          "base_uri": "https://localhost:8080/"
        },
        "id": "TsR9KSvVP9f8",
        "outputId": "9287993f-be6a-4ed4-e12a-e015cf31fdff"
      },
      "execution_count": null,
      "outputs": [
        {
          "output_type": "stream",
          "name": "stdout",
          "text": [
            "[2, 4, 8, 6]\n"
          ]
        }
      ]
    },
    {
      "cell_type": "code",
      "source": [
        "#reduce()\n",
        "from functools import reduce\n",
        "\n",
        "expenses =[ ('dinner' , 80), ('car' , 120)]\n",
        "sum = reduce(lambda a, b: a[1] + b[1] , expenses)\n",
        "print(sum)"
      ],
      "metadata": {
        "colab": {
          "base_uri": "https://localhost:8080/"
        },
        "id": "-L4htI-uQpLt",
        "outputId": "13288346-7fd7-4674-bea8-758a88a10102"
      },
      "execution_count": null,
      "outputs": [
        {
          "output_type": "stream",
          "name": "stdout",
          "text": [
            "dinnercar\n"
          ]
        }
      ]
    },
    {
      "cell_type": "code",
      "source": [
        "#Recursion\n",
        "#3!=3*2*1=6  #factorial\n",
        "\n",
        "def factorial(n):\n",
        "  if n == 1 : return 1\n",
        "  return n * factorial(n-1)\n",
        "\n",
        "print(factorial(3))\n",
        "print(factorial(4))\n",
        "print(factorial(6))"
      ],
      "metadata": {
        "colab": {
          "base_uri": "https://localhost:8080/"
        },
        "id": "oj2PiSO35l94",
        "outputId": "0d6dc6aa-e4a6-41e7-c881-71cec3525183"
      },
      "execution_count": null,
      "outputs": [
        {
          "output_type": "stream",
          "name": "stdout",
          "text": [
            "6\n",
            "24\n",
            "720\n"
          ]
        }
      ]
    },
    {
      "cell_type": "code",
      "source": [
        "#Decrators\n",
        "def logtime(func):\n",
        "  def wrapper():\n",
        "    print(\"before\")\n",
        "    val = func()\n",
        "    print(\"after\")\n",
        "    return val\n",
        "  return wrapper\n",
        "\n",
        "@logtime\n",
        "def hello():\n",
        "  print(\"hello\")\n",
        "\n",
        "hello()"
      ],
      "metadata": {
        "colab": {
          "base_uri": "https://localhost:8080/"
        },
        "id": "2ffJbvsn6mtm",
        "outputId": "ef0e128f-f0e4-4b27-cce6-1994e927f581"
      },
      "execution_count": null,
      "outputs": [
        {
          "output_type": "stream",
          "name": "stdout",
          "text": [
            "before\n",
            "hello\n",
            "after\n"
          ]
        }
      ]
    },
    {
      "cell_type": "code",
      "source": [
        "#Docstrings\n",
        "\"\"\" Dog module\n",
        "this module does ... bla bla\n",
        "following classes :\n",
        "\n",
        "-Dog\n",
        "...\n",
        "\"\"\"\n",
        "class Dog:\n",
        "  \"\"\" A class rep a dog\"\"\"\n",
        "  def __init__(self, name, age):\n",
        "    \"\"\"initialze a new dog\"\"\"\n",
        "    self.name= name\n",
        "    self.age= age\n",
        "\n",
        "  def bark(self):\n",
        "    \"\"\" let the dog bark \"\"\"\n",
        "    print(\"woof\")\n",
        "print(help(Dog))\n",
        "\n",
        "# print(Dog.__doc__)\n",
        "# print(Dog.__init__.__doc__)\n",
        "# print(Dog.bark.__doc__)"
      ],
      "metadata": {
        "colab": {
          "base_uri": "https://localhost:8080/"
        },
        "id": "NmtVDiI_-vCm",
        "outputId": "08b55ebd-b39d-4ccf-8337-9ffddaaa77ac"
      },
      "execution_count": null,
      "outputs": [
        {
          "output_type": "stream",
          "name": "stdout",
          "text": [
            "Help on class Dog in module __main__:\n",
            "\n",
            "class Dog(builtins.object)\n",
            " |  Dog(name, age)\n",
            " |\n",
            " |  A class rep a dog\n",
            " |\n",
            " |  Methods defined here:\n",
            " |\n",
            " |  __init__(self, name, age)\n",
            " |      initialze a new dog\n",
            " |\n",
            " |  bark(self)\n",
            " |      let the dog bark\n",
            " |\n",
            " |  ----------------------------------------------------------------------\n",
            " |  Data descriptors defined here:\n",
            " |\n",
            " |  __dict__\n",
            " |      dictionary for instance variables\n",
            " |\n",
            " |  __weakref__\n",
            " |      list of weak references to the object\n",
            "\n",
            "None\n"
          ]
        }
      ]
    },
    {
      "cell_type": "code",
      "source": [
        "#Annotation\n",
        "def increment(n: int) -> int:\n",
        "  return n + 1\n",
        "\n",
        "count: int = 0"
      ],
      "metadata": {
        "id": "pAlYLF72EgDj"
      },
      "execution_count": null,
      "outputs": []
    },
    {
      "cell_type": "code",
      "source": [
        "#Exceptions\n",
        "try:\n",
        "  #some lines of code\n",
        "except EOFError:\n",
        "  #handler <ERROR1>\n",
        "except <ERROR2> :\n",
        " #handler <ERROR2>\n",
        "else:\n",
        "  #no exceptions were raised, the code ran successfully\n",
        "finally:\n",
        "   #do something in any case"
      ],
      "metadata": {
        "id": "dnu4yKN-F5EW"
      },
      "execution_count": null,
      "outputs": []
    },
    {
      "cell_type": "code",
      "source": [
        "\n",
        "try:\n",
        " result = 2/0\n",
        "except ZeroDivisionError:\n",
        " print('Cannot divide by zero!')\n",
        "finally:\n",
        "  result = 1\n",
        "print(result)\n"
      ],
      "metadata": {
        "colab": {
          "base_uri": "https://localhost:8080/"
        },
        "id": "OXG6_A8wHSjK",
        "outputId": "7a205a79-eef6-4173-b920-4e7933680abd"
      },
      "execution_count": null,
      "outputs": [
        {
          "output_type": "stream",
          "name": "stdout",
          "text": [
            "Cannot divide by zero!\n",
            "1\n"
          ]
        }
      ]
    },
    {
      "cell_type": "code",
      "source": [
        "try:\n",
        "    raise Exception('An error')\n",
        "except Exception as error:\n",
        "    print(error)"
      ],
      "metadata": {
        "colab": {
          "base_uri": "https://localhost:8080/"
        },
        "id": "Y9oU3tpJIT4R",
        "outputId": "0de823f0-22a6-4dd8-ae81-8b94b218085b"
      },
      "execution_count": null,
      "outputs": [
        {
          "output_type": "stream",
          "name": "stdout",
          "text": [
            "An error\n"
          ]
        }
      ]
    },
    {
      "cell_type": "code",
      "source": [
        "class DogNotFoundException(Exception):\n",
        "  print('inside')\n",
        "  pass\n",
        "\n",
        "try:\n",
        "   raise DogNotFoundException()\n",
        "except DogNotFoundException:\n",
        "  print('Dog not fount!')"
      ],
      "metadata": {
        "colab": {
          "base_uri": "https://localhost:8080/"
        },
        "id": "5n0JP2-jIh3e",
        "outputId": "98ec27c3-ac14-40e0-b011-c3153f64704e"
      },
      "execution_count": null,
      "outputs": [
        {
          "output_type": "stream",
          "name": "stdout",
          "text": [
            "inside\n",
            "Dog not fount!\n"
          ]
        }
      ]
    },
    {
      "cell_type": "code",
      "source": [
        "#with\n",
        "filename = '/Users/flavio/test.txt'\n",
        "\n",
        "with open(filename, 'r') as file:\n",
        "    content = file.read()\n",
        "    print(content)"
      ],
      "metadata": {
        "id": "_QZPwnUZJicp"
      },
      "execution_count": null,
      "outputs": []
    },
    {
      "cell_type": "code",
      "source": [
        "#pip\n"
      ],
      "metadata": {
        "colab": {
          "base_uri": "https://localhost:8080/",
          "height": 106
        },
        "id": "VpC2onOwJtOG",
        "outputId": "25192207-7d54-4cbb-ec20-0b39555a565b"
      },
      "execution_count": null,
      "outputs": [
        {
          "output_type": "error",
          "ename": "SyntaxError",
          "evalue": "invalid syntax (ipython-input-2866279736.py, line 2)",
          "traceback": [
            "\u001b[0;36m  File \u001b[0;32m\"/tmp/ipython-input-2866279736.py\"\u001b[0;36m, line \u001b[0;32m2\u001b[0m\n\u001b[0;31m    pip install requests\u001b[0m\n\u001b[0m        ^\u001b[0m\n\u001b[0;31mSyntaxError\u001b[0m\u001b[0;31m:\u001b[0m invalid syntax\n"
          ]
        }
      ]
    },
    {
      "cell_type": "code",
      "source": [
        "#list compressions\n",
        "numbers = [1,2,3,4,5]\n",
        "numbers_power = [n**2 for n in numbers]\n",
        "\n",
        "print(numbers_power)\n"
      ],
      "metadata": {
        "colab": {
          "base_uri": "https://localhost:8080/"
        },
        "id": "vBiJLA--LEi3",
        "outputId": "f2eaf9e1-3cd4-45a8-f1b8-a61a41f67252"
      },
      "execution_count": null,
      "outputs": [
        {
          "output_type": "stream",
          "name": "stdout",
          "text": [
            "[1, 4, 9, 16, 25]\n"
          ]
        }
      ]
    },
    {
      "cell_type": "code",
      "source": [
        "numbers = [1,2,3,4,5]\n",
        "\n",
        "numbers_power = []\n",
        "for n in numbers:\n",
        "  numbers_power.append(n**2)\n",
        "\n",
        "print(numbers_power)\n"
      ],
      "metadata": {
        "colab": {
          "base_uri": "https://localhost:8080/"
        },
        "id": "tGpAC1azMQL1",
        "outputId": "7f05192c-67bf-4643-d721-77a6d9a671bb"
      },
      "execution_count": null,
      "outputs": [
        {
          "output_type": "stream",
          "name": "stdout",
          "text": [
            "[1, 4, 9, 16, 25]\n"
          ]
        }
      ]
    },
    {
      "cell_type": "code",
      "source": [
        "#list compressions\n",
        "numbers = [1,2,3,4,5]\n",
        "numbers_power = list(map(lambda n : n**2 , numbers))\n",
        "print(numbers_power)"
      ],
      "metadata": {
        "colab": {
          "base_uri": "https://localhost:8080/"
        },
        "id": "XE57z-nKMGJD",
        "outputId": "fd25b877-a5f5-4c58-e251-4d8e7e798d23"
      },
      "execution_count": null,
      "outputs": [
        {
          "output_type": "stream",
          "name": "stdout",
          "text": [
            "[1, 4, 9, 16, 25]\n"
          ]
        }
      ]
    },
    {
      "cell_type": "code",
      "source": [
        "# Polymorphism\n",
        "class Dog:\n",
        " def eat(self):\n",
        "  print('Eating dog food')\n",
        "class Cat:\n",
        " def eat(self):\n",
        "  print('Eating cat food')\n",
        "\n",
        "animal1 = Dog()\n",
        "animal2 = Cat()\n",
        "animal1.eat()\n",
        "animal2.eat()"
      ],
      "metadata": {
        "colab": {
          "base_uri": "https://localhost:8080/"
        },
        "id": "iF5dCDShMs8B",
        "outputId": "fee94125-b6ae-418a-f093-bbf1fa6228ff"
      },
      "execution_count": null,
      "outputs": [
        {
          "output_type": "stream",
          "name": "stdout",
          "text": [
            "Eating dog food\n",
            "Eating cat food\n"
          ]
        }
      ]
    },
    {
      "cell_type": "code",
      "source": [
        "#operator overloading\n",
        "class Dog:\n",
        "# the Dog class\n",
        " def __init__(self, name, age):\n",
        "  self.name = name\n",
        "  self.age = age\n",
        " def __gt__(self, other):\n",
        "  return True if self.age > other.age else False\n",
        "roger = Dog('Roger', 8)\n",
        "syd = Dog('Syd', 9)\n",
        "\n",
        "print(roger > syd)\n",
        "\n",
        "\n",
        "# __add__() respond to the + operator\n",
        "\n",
        "# __sub__() respond to the - operator\n",
        "\n",
        "# __mul__() respond to the * operator\n",
        "\n",
        "# __truediv__() respond to the / operator\n",
        "\n",
        "# __floordiv__() respond to the // operator\n",
        "\n",
        "# __mod__() respond to the % operator\n",
        "\n",
        "# __pow__() respond to the ** operator\n",
        "\n",
        "# __rshift__() respond to the >> operator\n",
        "\n",
        "# __lshift__() respond to the << operator\n",
        "\n",
        "# __and__() respond to the & operator\n",
        "\n",
        "# __or__() respond to the | operator\n",
        "\n",
        "# __xor__() respond to the ^ operator"
      ],
      "metadata": {
        "colab": {
          "base_uri": "https://localhost:8080/"
        },
        "id": "p68hoAoyNAbd",
        "outputId": "f5aaa3a2-6a1b-45f0-e4f6-06bf7923ec9e"
      },
      "execution_count": null,
      "outputs": [
        {
          "output_type": "stream",
          "name": "stdout",
          "text": [
            "False\n"
          ]
        }
      ]
    }
  ]
}